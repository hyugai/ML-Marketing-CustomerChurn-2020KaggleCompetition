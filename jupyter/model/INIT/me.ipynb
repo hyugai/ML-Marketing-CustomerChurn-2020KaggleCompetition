{
 "cells": [
  {
   "cell_type": "markdown",
   "metadata": {},
   "source": [
    "# Preparation"
   ]
  },
  {
   "cell_type": "markdown",
   "metadata": {},
   "source": [
    "<b>Load Libraries</b>"
   ]
  },
  {
   "cell_type": "code",
   "execution_count": 5,
   "metadata": {},
   "outputs": [],
   "source": [
    "# src\n",
    "import os, sys\n",
    "cwd = os.getcwd()\n",
    "os.chdir('../../..')\n",
    "path_to_src = os.getcwd()\n",
    "if path_to_src not in sys.path:\n",
    "    sys.path.append(path_to_src)\n",
    "os.chdir(cwd)\n",
    "from src.jupyter.support import *\n",
    "\n",
    "# hyper-parameters tuning\n",
    "import optuna\n",
    "\n",
    "# others\n",
    "from sklearn.preprocessing import TargetEncoder\n",
    "from warnings import simplefilter\n",
    "import cloudpickle"
   ]
  },
  {
   "cell_type": "markdown",
   "metadata": {},
   "source": [
    "<b>Load Libraries</b>"
   ]
  },
  {
   "cell_type": "code",
   "execution_count": 6,
   "metadata": {},
   "outputs": [],
   "source": [
    "# dataset\n",
    "materials = prepare_data_to_train('../../../resource/data/cleaned.csv')"
   ]
  },
  {
   "cell_type": "markdown",
   "metadata": {},
   "source": [
    "<b>MLflow</b>"
   ]
  },
  {
   "cell_type": "code",
   "execution_count": 7,
   "metadata": {},
   "outputs": [],
   "source": [
    "# connect to local mlflow\n",
    "mlflow.set_tracking_uri('http://127.0.0.1:5000/')\n",
    "##\n",
    "experiment_name = 'Model Engineering'\n",
    "try:\n",
    "    mlflow.create_experiment(name=experiment_name, artifact_location='resource/mlflow/runs')\n",
    "except:\n",
    "    mlflow.set_experiment(experiment_name=experiment_name)"
   ]
  },
  {
   "cell_type": "markdown",
   "metadata": {},
   "source": [
    "<b>UDC</b>"
   ]
  },
  {
   "cell_type": "code",
   "execution_count": 8,
   "metadata": {},
   "outputs": [],
   "source": [
    "# udc: auto detect category\n",
    "class UDC_Transformers(FSBaseTransformer):\n",
    "    def fit(self, X: np.ndarray, y: np.ndarray=None):\n",
    "        X, idxes = self.detect_category(X)\n",
    "        ##\n",
    "        self.assigned_transformers = [('ohe', OneHotEncoder(drop='first', sparse_output=False), idxes['cat']), \n",
    "                                      ('qtt', QuantileTransformer(output_distribution='normal'), idxes['num'])]\n",
    "        \n",
    "        super().fit(X, y)\n",
    "\n",
    "        return self"
   ]
  },
  {
   "cell_type": "markdown",
   "metadata": {},
   "source": [
    "# Evaluation"
   ]
  },
  {
   "cell_type": "markdown",
   "metadata": {},
   "source": [
    "<b>Hyper-parameters Tuning</b>"
   ]
  },
  {
   "cell_type": "code",
   "execution_count": 10,
   "metadata": {},
   "outputs": [
    {
     "name": "stderr",
     "output_type": "stream",
     "text": [
      "[I 2024-08-29 14:50:53,939] A new study created in memory with name: no-name-809039fc-43df-406a-85d5-ca626578274f\n"
     ]
    },
    {
     "name": "stderr",
     "output_type": "stream",
     "text": [
      "[I 2024-08-29 14:50:58,598] Trial 0 finished with value: 0.6968291643325426 and parameters: {'num_leaves': 32, 'min_data_in_leaf': 53, 'max_depth': 7, 'max_bin': 227, 'bagging_fraction': 0.8918712033984872, 'bagging_freq': 4, 'feature_fraction': 0.45422451493907945}. Best is trial 0 with value: 0.6968291643325426.\n",
      "[I 2024-08-29 14:51:02,576] Trial 1 finished with value: 0.641018072773375 and parameters: {'num_leaves': 37, 'min_data_in_leaf': 91, 'max_depth': 8, 'max_bin': 149, 'bagging_fraction': 0.3651140145861207, 'bagging_freq': 9, 'feature_fraction': 0.695637619799673}. Best is trial 0 with value: 0.6968291643325426.\n",
      "[I 2024-08-29 14:51:06,506] Trial 2 finished with value: 0.7824882158583809 and parameters: {'num_leaves': 33, 'min_data_in_leaf': 26, 'max_depth': 4, 'max_bin': 238, 'bagging_fraction': 0.6527044625692516, 'bagging_freq': 3, 'feature_fraction': 0.6878148050248795}. Best is trial 2 with value: 0.7824882158583809.\n",
      "[I 2024-08-29 14:51:10,471] Trial 3 finished with value: 0.7887754335578202 and parameters: {'num_leaves': 47, 'min_data_in_leaf': 39, 'max_depth': 4, 'max_bin': 105, 'bagging_fraction': 0.9767348721213227, 'bagging_freq': 4, 'feature_fraction': 0.9300080848321013}. Best is trial 3 with value: 0.7887754335578202.\n",
      "[I 2024-08-29 14:51:18,291] Trial 4 finished with value: 0.7909193037302352 and parameters: {'num_leaves': 54, 'min_data_in_leaf': 30, 'max_depth': 5, 'max_bin': 75, 'bagging_fraction': 0.6579567878920269, 'bagging_freq': 4, 'feature_fraction': 0.7233340204888837}. Best is trial 4 with value: 0.7909193037302352.\n",
      "[I 2024-08-29 14:51:22,075] Trial 5 finished with value: 0.319812184803536 and parameters: {'num_leaves': 41, 'min_data_in_leaf': 58, 'max_depth': 1, 'max_bin': 157, 'bagging_fraction': 0.6324332661708526, 'bagging_freq': 4, 'feature_fraction': 0.44939962874668193}. Best is trial 4 with value: 0.7909193037302352.\n",
      "[I 2024-08-29 14:51:25,811] Trial 6 finished with value: 0.6296717840492324 and parameters: {'num_leaves': 84, 'min_data_in_leaf': 88, 'max_depth': 2, 'max_bin': 66, 'bagging_fraction': 0.9543604503652375, 'bagging_freq': 6, 'feature_fraction': 0.7043746448519077}. Best is trial 4 with value: 0.7909193037302352.\n",
      "[I 2024-08-29 14:51:30,011] Trial 7 finished with value: 0.3463328125543724 and parameters: {'num_leaves': 65, 'min_data_in_leaf': 29, 'max_depth': 1, 'max_bin': 219, 'bagging_fraction': 0.30902048715943153, 'bagging_freq': 6, 'feature_fraction': 0.5795062117041523}. Best is trial 4 with value: 0.7909193037302352.\n",
      "[I 2024-08-29 14:51:34,027] Trial 8 finished with value: 0.6621051072803156 and parameters: {'num_leaves': 85, 'min_data_in_leaf': 77, 'max_depth': 5, 'max_bin': 209, 'bagging_fraction': 0.5182561155721261, 'bagging_freq': 8, 'feature_fraction': 0.5703106270352705}. Best is trial 4 with value: 0.7909193037302352.\n",
      "[I 2024-08-29 14:51:37,782] Trial 9 finished with value: 0.2233580495470456 and parameters: {'num_leaves': 70, 'min_data_in_leaf': 50, 'max_depth': 4, 'max_bin': 100, 'bagging_fraction': 0.31650162924318054, 'bagging_freq': 3, 'feature_fraction': 0.14643089907007692}. Best is trial 4 with value: 0.7909193037302352.\n",
      "[I 2024-08-29 14:51:41,365] Trial 10 finished with value: 0.27583860983743735 and parameters: {'num_leaves': 56, 'min_data_in_leaf': 73, 'max_depth': 10, 'max_bin': 59, 'bagging_fraction': 0.10834333307033306, 'bagging_freq': 1, 'feature_fraction': 0.999920773533839}. Best is trial 4 with value: 0.7909193037302352.\n",
      "[I 2024-08-29 14:51:46,334] Trial 11 finished with value: 0.7966389538774715 and parameters: {'num_leaves': 54, 'min_data_in_leaf': 37, 'max_depth': 6, 'max_bin': 114, 'bagging_fraction': 0.7875950254252586, 'bagging_freq': 1, 'feature_fraction': 0.9696136690666225}. Best is trial 11 with value: 0.7966389538774715.\n",
      "[I 2024-08-29 14:51:55,281] Trial 12 finished with value: 0.7896886983176713 and parameters: {'num_leaves': 55, 'min_data_in_leaf': 20, 'max_depth': 7, 'max_bin': 104, 'bagging_fraction': 0.7902567198410101, 'bagging_freq': 1, 'feature_fraction': 0.8619566688488818}. Best is trial 11 with value: 0.7966389538774715.\n",
      "[I 2024-08-29 14:52:00,296] Trial 13 finished with value: 0.7904397815401695 and parameters: {'num_leaves': 71, 'min_data_in_leaf': 40, 'max_depth': 6, 'max_bin': 145, 'bagging_fraction': 0.7808984503388636, 'bagging_freq': 2, 'feature_fraction': 0.8207592278489991}. Best is trial 11 with value: 0.7966389538774715.\n",
      "[I 2024-08-29 14:52:05,845] Trial 14 finished with value: 0.7798065952781258 and parameters: {'num_leaves': 100, 'min_data_in_leaf': 40, 'max_depth': 9, 'max_bin': 82, 'bagging_fraction': 0.7627679130345504, 'bagging_freq': 7, 'feature_fraction': 0.7979204223981361}. Best is trial 11 with value: 0.7966389538774715.\n",
      "[I 2024-08-29 14:52:10,186] Trial 15 finished with value: 0.6570585696389504 and parameters: {'num_leaves': 54, 'min_data_in_leaf': 33, 'max_depth': 6, 'max_bin': 125, 'bagging_fraction': 0.5070654110913987, 'bagging_freq': 2, 'feature_fraction': 0.32880130233419436}. Best is trial 11 with value: 0.7966389538774715.\n",
      "[I 2024-08-29 14:52:14,036] Trial 16 finished with value: 0.7475787636937462 and parameters: {'num_leaves': 47, 'min_data_in_leaf': 47, 'max_depth': 3, 'max_bin': 178, 'bagging_fraction': 0.6378182988502034, 'bagging_freq': 5, 'feature_fraction': 0.9919062640151656}. Best is trial 11 with value: 0.7966389538774715.\n",
      "[I 2024-08-29 14:52:18,170] Trial 17 finished with value: 0.7758675711913738 and parameters: {'num_leaves': 66, 'min_data_in_leaf': 66, 'max_depth': 5, 'max_bin': 86, 'bagging_fraction': 0.8427933348899916, 'bagging_freq': 2, 'feature_fraction': 0.8730889860520606}. Best is trial 11 with value: 0.7966389538774715.\n",
      "[I 2024-08-29 14:52:26,562] Trial 18 finished with value: 0.7945365186693355 and parameters: {'num_leaves': 61, 'min_data_in_leaf': 21, 'max_depth': 7, 'max_bin': 124, 'bagging_fraction': 0.6994630050481336, 'bagging_freq': 5, 'feature_fraction': 0.7617143285872358}. Best is trial 11 with value: 0.7966389538774715.\n",
      "[I 2024-08-29 14:52:31,306] Trial 19 finished with value: 0.7686063718714152 and parameters: {'num_leaves': 78, 'min_data_in_leaf': 22, 'max_depth': 8, 'max_bin': 179, 'bagging_fraction': 0.45191991405016113, 'bagging_freq': 9, 'feature_fraction': 0.797189886171551}. Best is trial 11 with value: 0.7966389538774715.\n",
      "[I 2024-08-29 14:52:36,198] Trial 20 finished with value: 0.7957349168798804 and parameters: {'num_leaves': 64, 'min_data_in_leaf': 34, 'max_depth': 7, 'max_bin': 128, 'bagging_fraction': 0.7194101908930625, 'bagging_freq': 10, 'feature_fraction': 0.9110101303396736}. Best is trial 11 with value: 0.7966389538774715.\n",
      "[I 2024-08-29 14:52:41,007] Trial 21 finished with value: 0.7959838613051214 and parameters: {'num_leaves': 60, 'min_data_in_leaf': 35, 'max_depth': 7, 'max_bin': 132, 'bagging_fraction': 0.7195476303495961, 'bagging_freq': 10, 'feature_fraction': 0.9237025686532891}. Best is trial 11 with value: 0.7966389538774715.\n",
      "[I 2024-08-29 14:52:46,023] Trial 22 finished with value: 0.7978341094532178 and parameters: {'num_leaves': 47, 'min_data_in_leaf': 37, 'max_depth': 8, 'max_bin': 131, 'bagging_fraction': 0.8762657125494888, 'bagging_freq': 10, 'feature_fraction': 0.9268932966165031}. Best is trial 22 with value: 0.7978341094532178.\n",
      "[I 2024-08-29 14:52:51,141] Trial 23 finished with value: 0.7964136122495025 and parameters: {'num_leaves': 46, 'min_data_in_leaf': 45, 'max_depth': 9, 'max_bin': 172, 'bagging_fraction': 0.8848577758205248, 'bagging_freq': 10, 'feature_fraction': 0.9170113747125462}. Best is trial 22 with value: 0.7978341094532178.\n",
      "[I 2024-08-29 14:52:56,411] Trial 24 finished with value: 0.7921622095699078 and parameters: {'num_leaves': 48, 'min_data_in_leaf': 46, 'max_depth': 10, 'max_bin': 180, 'bagging_fraction': 0.8813990833913428, 'bagging_freq': 8, 'feature_fraction': 0.9838541503084541}. Best is trial 22 with value: 0.7978341094532178.\n",
      "[I 2024-08-29 14:53:05,460] Trial 25 finished with value: 0.7788751012428582 and parameters: {'num_leaves': 38, 'min_data_in_leaf': 58, 'max_depth': 9, 'max_bin': 166, 'bagging_fraction': 0.9262840684426958, 'bagging_freq': 9, 'feature_fraction': 0.8619012192804967}. Best is trial 22 with value: 0.7978341094532178.\n",
      "[I 2024-08-29 14:53:11,982] Trial 26 finished with value: 0.7431048823194425 and parameters: {'num_leaves': 44, 'min_data_in_leaf': 100, 'max_depth': 9, 'max_bin': 189, 'bagging_fraction': 0.9955539672353219, 'bagging_freq': 10, 'feature_fraction': 0.6267354514306378}. Best is trial 22 with value: 0.7978341094532178.\n",
      "[I 2024-08-29 14:53:17,411] Trial 27 finished with value: 0.7936819764585672 and parameters: {'num_leaves': 50, 'min_data_in_leaf': 43, 'max_depth': 8, 'max_bin': 200, 'bagging_fraction': 0.8176625638250904, 'bagging_freq': 8, 'feature_fraction': 0.9358687731265394}. Best is trial 22 with value: 0.7978341094532178.\n",
      "[I 2024-08-29 14:53:22,099] Trial 28 finished with value: 0.4844625293061384 and parameters: {'num_leaves': 41, 'min_data_in_leaf': 66, 'max_depth': 9, 'max_bin': 115, 'bagging_fraction': 0.8854087756364144, 'bagging_freq': 7, 'feature_fraction': 0.20512435108901433}. Best is trial 22 with value: 0.7978341094532178.\n",
      "[I 2024-08-29 14:53:28,037] Trial 29 finished with value: 0.6821270341276443 and parameters: {'num_leaves': 36, 'min_data_in_leaf': 52, 'max_depth': 8, 'max_bin': 165, 'bagging_fraction': 0.8943813997547642, 'bagging_freq': 7, 'feature_fraction': 0.45598434924898745}. Best is trial 22 with value: 0.7978341094532178.\n",
      "[I 2024-08-29 14:53:32,051] Trial 30 finished with value: 0.6398654212992967 and parameters: {'num_leaves': 32, 'min_data_in_leaf': 53, 'max_depth': 6, 'max_bin': 139, 'bagging_fraction': 0.6031642308086174, 'bagging_freq': 9, 'feature_fraction': 0.4584972644041791}. Best is trial 22 with value: 0.7978341094532178.\n",
      "[I 2024-08-29 14:53:40,576] Trial 31 finished with value: 0.7910582704754742 and parameters: {'num_leaves': 59, 'min_data_in_leaf': 36, 'max_depth': 7, 'max_bin': 142, 'bagging_fraction': 0.7392473904031758, 'bagging_freq': 10, 'feature_fraction': 0.9171216654135215}. Best is trial 22 with value: 0.7978341094532178.\n",
      "[I 2024-08-29 14:53:45,963] Trial 32 finished with value: 0.7955281747666084 and parameters: {'num_leaves': 52, 'min_data_in_leaf': 44, 'max_depth': 8, 'max_bin': 131, 'bagging_fraction': 0.8402971192445079, 'bagging_freq': 10, 'feature_fraction': 0.8495097901482123}. Best is trial 22 with value: 0.7978341094532178.\n",
      "[I 2024-08-29 14:53:50,739] Trial 33 finished with value: 0.7971024138496913 and parameters: {'num_leaves': 60, 'min_data_in_leaf': 29, 'max_depth': 6, 'max_bin': 155, 'bagging_fraction': 0.8470230461966876, 'bagging_freq': 9, 'feature_fraction': 0.9463763434855283}. Best is trial 22 with value: 0.7978341094532178.\n",
      "[I 2024-08-29 14:53:55,226] Trial 34 finished with value: 0.8043069556657626 and parameters: {'num_leaves': 44, 'min_data_in_leaf': 28, 'max_depth': 6, 'max_bin': 156, 'bagging_fraction': 0.9399176051506535, 'bagging_freq': 9, 'feature_fraction': 0.9608441410965459}. Best is trial 34 with value: 0.8043069556657626.\n",
      "[I 2024-08-29 14:54:00,467] Trial 35 finished with value: 0.7980640732944078 and parameters: {'num_leaves': 42, 'min_data_in_leaf': 26, 'max_depth': 6, 'max_bin': 156, 'bagging_fraction': 0.9486436249315882, 'bagging_freq': 9, 'feature_fraction': 0.9518372622955418}. Best is trial 34 with value: 0.8043069556657626.\n",
      "[I 2024-08-29 14:54:04,992] Trial 36 finished with value: 0.7973787434845058 and parameters: {'num_leaves': 42, 'min_data_in_leaf': 25, 'max_depth': 5, 'max_bin': 157, 'bagging_fraction': 0.9407609122562836, 'bagging_freq': 9, 'feature_fraction': 0.7510882647441848}. Best is trial 34 with value: 0.8043069556657626.\n",
      "[I 2024-08-29 14:54:09,084] Trial 37 finished with value: 0.7880045176493687 and parameters: {'num_leaves': 42, 'min_data_in_leaf': 24, 'max_depth': 4, 'max_bin': 156, 'bagging_fraction': 0.9484523165624218, 'bagging_freq': 8, 'feature_fraction': 0.6459918531179191}. Best is trial 34 with value: 0.8043069556657626.\n",
      "[I 2024-08-29 14:54:17,311] Trial 38 finished with value: 0.8021887381245513 and parameters: {'num_leaves': 37, 'min_data_in_leaf': 27, 'max_depth': 5, 'max_bin': 247, 'bagging_fraction': 0.9431968065750469, 'bagging_freq': 9, 'feature_fraction': 0.7470155278712878}. Best is trial 34 with value: 0.8043069556657626.\n",
      "[I 2024-08-29 14:54:21,548] Trial 39 finished with value: 0.7588812752007611 and parameters: {'num_leaves': 36, 'min_data_in_leaf': 29, 'max_depth': 3, 'max_bin': 249, 'bagging_fraction': 0.9667157540678836, 'bagging_freq': 8, 'feature_fraction': 0.7717404219929027}. Best is trial 34 with value: 0.8043069556657626.\n",
      "[I 2024-08-29 14:54:25,920] Trial 40 finished with value: 0.7991029948806531 and parameters: {'num_leaves': 39, 'min_data_in_leaf': 27, 'max_depth': 4, 'max_bin': 230, 'bagging_fraction': 0.9910010964873304, 'bagging_freq': 7, 'feature_fraction': 0.6986651918420687}. Best is trial 34 with value: 0.8043069556657626.\n",
      "[I 2024-08-29 14:54:30,267] Trial 41 finished with value: 0.7906609873800291 and parameters: {'num_leaves': 32, 'min_data_in_leaf': 28, 'max_depth': 4, 'max_bin': 253, 'bagging_fraction': 0.9183597001325493, 'bagging_freq': 7, 'feature_fraction': 0.6515708491501387}. Best is trial 34 with value: 0.8043069556657626.\n",
      "[I 2024-08-29 14:54:34,204] Trial 42 finished with value: 0.7290078889115704 and parameters: {'num_leaves': 38, 'min_data_in_leaf': 25, 'max_depth': 3, 'max_bin': 232, 'bagging_fraction': 0.997755997023903, 'bagging_freq': 9, 'feature_fraction': 0.5211526632533751}. Best is trial 34 with value: 0.8043069556657626.\n",
      "[I 2024-08-29 14:54:38,049] Trial 43 finished with value: 0.7950732113510559 and parameters: {'num_leaves': 35, 'min_data_in_leaf': 31, 'max_depth': 4, 'max_bin': 223, 'bagging_fraction': 0.9918318075958173, 'bagging_freq': 6, 'feature_fraction': 0.8838143899264537}. Best is trial 34 with value: 0.8043069556657626.\n",
      "[I 2024-08-29 14:54:44,065] Trial 44 finished with value: 0.7973175448927099 and parameters: {'num_leaves': 39, 'min_data_in_leaf': 25, 'max_depth': 5, 'max_bin': 244, 'bagging_fraction': 0.9181829509097068, 'bagging_freq': 8, 'feature_fraction': 0.7024682861667382}. Best is trial 34 with value: 0.8043069556657626.\n",
      "[I 2024-08-29 14:54:51,391] Trial 45 finished with value: 0.6950421782851686 and parameters: {'num_leaves': 45, 'min_data_in_leaf': 20, 'max_depth': 2, 'max_bin': 213, 'bagging_fraction': 0.8562178823574806, 'bagging_freq': 9, 'feature_fraction': 0.8254444295480637}. Best is trial 34 with value: 0.8043069556657626.\n",
      "[I 2024-08-29 14:54:55,334] Trial 46 finished with value: 0.5629495744800859 and parameters: {'num_leaves': 31, 'min_data_in_leaf': 31, 'max_depth': 5, 'max_bin': 234, 'bagging_fraction': 0.14297024192609864, 'bagging_freq': 8, 'feature_fraction': 0.7342510833322017}. Best is trial 34 with value: 0.8043069556657626.\n",
      "[I 2024-08-29 14:54:59,383] Trial 47 finished with value: 0.7900166593781268 and parameters: {'num_leaves': 51, 'min_data_in_leaf': 38, 'max_depth': 4, 'max_bin': 197, 'bagging_fraction': 0.9568734815156694, 'bagging_freq': 10, 'feature_fraction': 0.6799247194018674}. Best is trial 34 with value: 0.8043069556657626.\n",
      "[I 2024-08-29 14:55:04,160] Trial 48 finished with value: 0.7831782007766236 and parameters: {'num_leaves': 40, 'min_data_in_leaf': 27, 'max_depth': 6, 'max_bin': 216, 'bagging_fraction': 0.7953537715929611, 'bagging_freq': 6, 'feature_fraction': 0.6096959928807344}. Best is trial 34 with value: 0.8043069556657626.\n",
      "[I 2024-08-29 14:55:08,846] Trial 49 finished with value: 0.770867932704516 and parameters: {'num_leaves': 44, 'min_data_in_leaf': 33, 'max_depth': 5, 'max_bin': 206, 'bagging_fraction': 0.9072474706055568, 'bagging_freq': 9, 'feature_fraction': 0.5142342444808802}. Best is trial 34 with value: 0.8043069556657626.\n",
      "[I 2024-08-29 14:55:13,857] Trial 50 finished with value: 0.5794954272787349 and parameters: {'num_leaves': 35, 'min_data_in_leaf': 41, 'max_depth': 3, 'max_bin': 90, 'bagging_fraction': 0.19354214410402976, 'bagging_freq': 7, 'feature_fraction': 0.95465084581979}. Best is trial 34 with value: 0.8043069556657626.\n",
      "[I 2024-08-29 14:55:18,446] Trial 51 finished with value: 0.7966204291273223 and parameters: {'num_leaves': 42, 'min_data_in_leaf': 24, 'max_depth': 5, 'max_bin': 152, 'bagging_fraction': 0.9396461641174944, 'bagging_freq': 9, 'feature_fraction': 0.7701451087384997}. Best is trial 34 with value: 0.8043069556657626.\n",
      "[I 2024-08-29 14:55:26,402] Trial 52 finished with value: 0.8023330906416414 and parameters: {'num_leaves': 48, 'min_data_in_leaf': 27, 'max_depth': 6, 'max_bin': 241, 'bagging_fraction': 0.9595567267455067, 'bagging_freq': 10, 'feature_fraction': 0.8203425705706185}. Best is trial 34 with value: 0.8043069556657626.\n",
      "[I 2024-08-29 14:55:31,000] Trial 53 finished with value: 0.8023940688862291 and parameters: {'num_leaves': 49, 'min_data_in_leaf': 31, 'max_depth': 6, 'max_bin': 242, 'bagging_fraction': 0.9698709796530809, 'bagging_freq': 10, 'feature_fraction': 0.8248220672741015}. Best is trial 34 with value: 0.8043069556657626.\n",
      "[I 2024-08-29 14:55:35,874] Trial 54 finished with value: 0.7993363836968234 and parameters: {'num_leaves': 50, 'min_data_in_leaf': 33, 'max_depth': 6, 'max_bin': 228, 'bagging_fraction': 0.9570595996863355, 'bagging_freq': 10, 'feature_fraction': 0.8226996037965056}. Best is trial 34 with value: 0.8043069556657626.\n",
      "[I 2024-08-29 14:55:40,471] Trial 55 finished with value: 0.7690467403048118 and parameters: {'num_leaves': 57, 'min_data_in_leaf': 82, 'max_depth': 6, 'max_bin': 241, 'bagging_fraction': 0.9717856874582108, 'bagging_freq': 10, 'feature_fraction': 0.8150436455349557}. Best is trial 34 with value: 0.8043069556657626.\n",
      "[I 2024-08-29 14:55:45,467] Trial 56 finished with value: 0.7160751322580071 and parameters: {'num_leaves': 51, 'min_data_in_leaf': 32, 'max_depth': 7, 'max_bin': 227, 'bagging_fraction': 0.40940591800672854, 'bagging_freq': 10, 'feature_fraction': 0.6903466276729424}. Best is trial 34 with value: 0.8043069556657626.\n",
      "[I 2024-08-29 14:55:50,739] Trial 57 finished with value: 0.8017566595890194 and parameters: {'num_leaves': 49, 'min_data_in_leaf': 22, 'max_depth': 6, 'max_bin': 255, 'bagging_fraction': 0.8125668074668584, 'bagging_freq': 10, 'feature_fraction': 0.8373372229913336}. Best is trial 34 with value: 0.8043069556657626.\n",
      "[I 2024-08-29 14:55:55,410] Trial 58 finished with value: 0.7978804964980024 and parameters: {'num_leaves': 48, 'min_data_in_leaf': 22, 'max_depth': 6, 'max_bin': 255, 'bagging_fraction': 0.8160303037822716, 'bagging_freq': 10, 'feature_fraction': 0.8907548143532494}. Best is trial 34 with value: 0.8043069556657626.\n",
      "[I 2024-08-29 14:56:03,919] Trial 59 finished with value: 0.7779021916431517 and parameters: {'num_leaves': 54, 'min_data_in_leaf': 20, 'max_depth': 7, 'max_bin': 241, 'bagging_fraction': 0.5690928678292807, 'bagging_freq': 10, 'feature_fraction': 0.8431714980387588}. Best is trial 34 with value: 0.8043069556657626.\n",
      "[I 2024-08-29 14:56:08,935] Trial 60 finished with value: 0.7974522806846536 and parameters: {'num_leaves': 100, 'min_data_in_leaf': 35, 'max_depth': 6, 'max_bin': 247, 'bagging_fraction': 0.8642848757805756, 'bagging_freq': 10, 'feature_fraction': 0.7986570935846529}. Best is trial 34 with value: 0.8043069556657626.\n",
      "[I 2024-08-29 14:56:13,987] Trial 61 finished with value: 0.7981085228958994 and parameters: {'num_leaves': 49, 'min_data_in_leaf': 29, 'max_depth': 5, 'max_bin': 229, 'bagging_fraction': 0.9977659518032103, 'bagging_freq': 9, 'feature_fraction': 0.7289722536828048}. Best is trial 34 with value: 0.8043069556657626.\n",
      "[I 2024-08-29 14:56:18,528] Trial 62 finished with value: 0.7912312158794795 and parameters: {'num_leaves': 45, 'min_data_in_leaf': 22, 'max_depth': 5, 'max_bin': 238, 'bagging_fraction': 0.9173755436023086, 'bagging_freq': 9, 'feature_fraction': 0.7856005508775046}. Best is trial 34 with value: 0.8043069556657626.\n",
      "[I 2024-08-29 14:56:23,384] Trial 63 finished with value: 0.7995782933870863 and parameters: {'num_leaves': 56, 'min_data_in_leaf': 32, 'max_depth': 7, 'max_bin': 224, 'bagging_fraction': 0.9701120824929894, 'bagging_freq': 10, 'feature_fraction': 0.8195242907078291}. Best is trial 34 with value: 0.8043069556657626.\n",
      "[I 2024-08-29 14:56:28,484] Trial 64 finished with value: 0.7931484527617403 and parameters: {'num_leaves': 56, 'min_data_in_leaf': 40, 'max_depth': 7, 'max_bin': 219, 'bagging_fraction': 0.9563679287845865, 'bagging_freq': 10, 'feature_fraction': 0.8297391589436967}. Best is trial 34 with value: 0.8043069556657626.\n",
      "[I 2024-08-29 14:56:33,912] Trial 65 finished with value: 0.7938014343861105 and parameters: {'num_leaves': 53, 'min_data_in_leaf': 33, 'max_depth': 7, 'max_bin': 251, 'bagging_fraction': 0.8233892520842007, 'bagging_freq': 10, 'feature_fraction': 0.8902240788191428}. Best is trial 34 with value: 0.8043069556657626.\n",
      "[I 2024-08-29 14:56:42,528] Trial 66 finished with value: 0.7967446049844553 and parameters: {'num_leaves': 58, 'min_data_in_leaf': 30, 'max_depth': 6, 'max_bin': 224, 'bagging_fraction': 0.8905297349593905, 'bagging_freq': 10, 'feature_fraction': 0.8610735396801046}. Best is trial 34 with value: 0.8043069556657626.\n",
      "[I 2024-08-29 14:56:47,399] Trial 67 finished with value: 0.711630462113508 and parameters: {'num_leaves': 63, 'min_data_in_leaf': 37, 'max_depth': 6, 'max_bin': 236, 'bagging_fraction': 0.9151316639845268, 'bagging_freq': 9, 'feature_fraction': 0.3235256970822523}. Best is trial 34 with value: 0.8043069556657626.\n",
      "[I 2024-08-29 14:56:52,492] Trial 68 finished with value: 0.7957914174679961 and parameters: {'num_leaves': 70, 'min_data_in_leaf': 23, 'max_depth': 7, 'max_bin': 209, 'bagging_fraction': 0.7616333395464452, 'bagging_freq': 3, 'feature_fraction': 0.8074523574477084}. Best is trial 34 with value: 0.8043069556657626.\n",
      "[I 2024-08-29 14:56:57,044] Trial 69 finished with value: 0.7900460283622619 and parameters: {'num_leaves': 49, 'min_data_in_leaf': 34, 'max_depth': 6, 'max_bin': 245, 'bagging_fraction': 0.9701517851858787, 'bagging_freq': 10, 'feature_fraction': 0.7495820919249462}. Best is trial 34 with value: 0.8043069556657626.\n",
      "[I 2024-08-29 14:57:01,438] Trial 70 finished with value: 0.7866940012876555 and parameters: {'num_leaves': 67, 'min_data_in_leaf': 48, 'max_depth': 7, 'max_bin': 54, 'bagging_fraction': 0.856415922289129, 'bagging_freq': 9, 'feature_fraction': 0.9748867479844187}. Best is trial 34 with value: 0.8043069556657626.\n",
      "[I 2024-08-29 14:57:05,646] Trial 71 finished with value: 0.7929624781139879 and parameters: {'num_leaves': 45, 'min_data_in_leaf': 27, 'max_depth': 5, 'max_bin': 233, 'bagging_fraction': 0.6678916825192756, 'bagging_freq': 5, 'feature_fraction': 0.7285642435693108}. Best is trial 34 with value: 0.8043069556657626.\n",
      "[I 2024-08-29 14:57:09,900] Trial 72 finished with value: 0.7823840383664149 and parameters: {'num_leaves': 47, 'min_data_in_leaf': 27, 'max_depth': 4, 'max_bin': 224, 'bagging_fraction': 0.977438494226786, 'bagging_freq': 10, 'feature_fraction': 0.6696991706087208}. Best is trial 34 with value: 0.8043069556657626.\n",
      "[I 2024-08-29 14:57:17,860] Trial 73 finished with value: 0.7997081286516379 and parameters: {'num_leaves': 52, 'min_data_in_leaf': 31, 'max_depth': 6, 'max_bin': 240, 'bagging_fraction': 0.9455891060580547, 'bagging_freq': 10, 'feature_fraction': 0.8439457277939162}. Best is trial 34 with value: 0.8043069556657626.\n",
      "[I 2024-08-29 14:57:22,279] Trial 74 finished with value: 0.8065364258845575 and parameters: {'num_leaves': 53, 'min_data_in_leaf': 31, 'max_depth': 6, 'max_bin': 255, 'bagging_fraction': 0.9316161684673597, 'bagging_freq': 10, 'feature_fraction': 0.9008893200527817}. Best is trial 74 with value: 0.8065364258845575.\n",
      "[I 2024-08-29 14:57:27,242] Trial 75 finished with value: 0.7993373061989989 and parameters: {'num_leaves': 53, 'min_data_in_leaf': 31, 'max_depth': 6, 'max_bin': 255, 'bagging_fraction': 0.8954052851020506, 'bagging_freq': 9, 'feature_fraction': 0.9013109556491601}. Best is trial 74 with value: 0.8065364258845575.\n",
      "[I 2024-08-29 14:57:32,144] Trial 76 finished with value: 0.7928974469085357 and parameters: {'num_leaves': 93, 'min_data_in_leaf': 41, 'max_depth': 7, 'max_bin': 245, 'bagging_fraction': 0.9320734669170561, 'bagging_freq': 10, 'feature_fraction': 0.9998266482658992}. Best is trial 74 with value: 0.8065364258845575.\n",
      "[I 2024-08-29 14:57:36,823] Trial 77 finished with value: 0.7988763623070833 and parameters: {'num_leaves': 62, 'min_data_in_leaf': 36, 'max_depth': 6, 'max_bin': 238, 'bagging_fraction': 0.8657914898777528, 'bagging_freq': 10, 'feature_fraction': 0.8687537648591944}. Best is trial 74 with value: 0.8065364258845575.\n",
      "[I 2024-08-29 14:57:41,186] Trial 78 finished with value: 0.800670645792087 and parameters: {'num_leaves': 56, 'min_data_in_leaf': 23, 'max_depth': 5, 'max_bin': 250, 'bagging_fraction': 0.9354946586315299, 'bagging_freq': 9, 'feature_fraction': 0.8576184747425518}. Best is trial 74 with value: 0.8065364258845575.\n",
      "[I 2024-08-29 14:57:45,477] Trial 79 finished with value: 0.8016873276585358 and parameters: {'num_leaves': 75, 'min_data_in_leaf': 23, 'max_depth': 5, 'max_bin': 249, 'bagging_fraction': 0.8369163652429952, 'bagging_freq': 9, 'feature_fraction': 0.9320181008018741}. Best is trial 74 with value: 0.8065364258845575.\n",
      "[I 2024-08-29 14:57:53,228] Trial 80 finished with value: 0.7922545795932848 and parameters: {'num_leaves': 75, 'min_data_in_leaf': 23, 'max_depth': 5, 'max_bin': 249, 'bagging_fraction': 0.800854260936966, 'bagging_freq': 8, 'feature_fraction': 0.9594809889284492}. Best is trial 74 with value: 0.8065364258845575.\n",
      "[I 2024-08-29 14:57:57,392] Trial 81 finished with value: 0.7997440067139243 and parameters: {'num_leaves': 78, 'min_data_in_leaf': 20, 'max_depth': 5, 'max_bin': 241, 'bagging_fraction': 0.8944902160057511, 'bagging_freq': 9, 'feature_fraction': 0.9257833954444057}. Best is trial 74 with value: 0.8065364258845575.\n",
      "[I 2024-08-29 14:58:01,724] Trial 82 finished with value: 0.794727203379895 and parameters: {'num_leaves': 74, 'min_data_in_leaf': 20, 'max_depth': 5, 'max_bin': 250, 'bagging_fraction': 0.8280605126535555, 'bagging_freq': 9, 'feature_fraction': 0.9205871894177242}. Best is trial 74 with value: 0.8065364258845575.\n",
      "[I 2024-08-29 14:58:06,116] Trial 83 finished with value: 0.7975982377351344 and parameters: {'num_leaves': 80, 'min_data_in_leaf': 24, 'max_depth': 5, 'max_bin': 244, 'bagging_fraction': 0.7632922292911003, 'bagging_freq': 9, 'feature_fraction': 0.9342773739897585}. Best is trial 74 with value: 0.8065364258845575.\n",
      "[I 2024-08-29 14:58:10,570] Trial 84 finished with value: 0.7973934342474339 and parameters: {'num_leaves': 85, 'min_data_in_leaf': 22, 'max_depth': 5, 'max_bin': 255, 'bagging_fraction': 0.8977114187718793, 'bagging_freq': 8, 'feature_fraction': 0.9044927070381733}. Best is trial 74 with value: 0.8065364258845575.\n",
      "[I 2024-08-29 14:58:14,855] Trial 85 finished with value: 0.7992678177906498 and parameters: {'num_leaves': 80, 'min_data_in_leaf': 25, 'max_depth': 5, 'max_bin': 248, 'bagging_fraction': 0.878467166582164, 'bagging_freq': 9, 'feature_fraction': 0.8804208554574361}. Best is trial 74 with value: 0.8065364258845575.\n",
      "[I 2024-08-29 14:58:18,810] Trial 86 finished with value: 0.8018885906233554 and parameters: {'num_leaves': 84, 'min_data_in_leaf': 29, 'max_depth': 4, 'max_bin': 236, 'bagging_fraction': 0.9284394298900519, 'bagging_freq': 8, 'feature_fraction': 0.9746060111771545}. Best is trial 74 with value: 0.8065364258845575.\n",
      "[I 2024-08-29 14:58:26,775] Trial 87 finished with value: 0.794331585086036 and parameters: {'num_leaves': 90, 'min_data_in_leaf': 28, 'max_depth': 4, 'max_bin': 234, 'bagging_fraction': 0.920982847802852, 'bagging_freq': 8, 'feature_fraction': 0.9792405979938623}. Best is trial 74 with value: 0.8065364258845575.\n",
      "[I 2024-08-29 14:58:31,112] Trial 88 finished with value: 0.795785166595487 and parameters: {'num_leaves': 87, 'min_data_in_leaf': 27, 'max_depth': 4, 'max_bin': 191, 'bagging_fraction': 0.9388606934838278, 'bagging_freq': 8, 'feature_fraction': 0.9646197983022448}. Best is trial 74 with value: 0.8065364258845575.\n",
      "[I 2024-08-29 14:58:35,076] Trial 89 finished with value: 0.666737140501922 and parameters: {'num_leaves': 67, 'min_data_in_leaf': 63, 'max_depth': 6, 'max_bin': 251, 'bagging_fraction': 0.3128870158315239, 'bagging_freq': 9, 'feature_fraction': 0.7851926377686758}. Best is trial 74 with value: 0.8065364258845575.\n",
      "[I 2024-08-29 14:58:39,165] Trial 90 finished with value: 0.7701838968008564 and parameters: {'num_leaves': 44, 'min_data_in_leaf': 72, 'max_depth': 4, 'max_bin': 219, 'bagging_fraction': 0.837391396299233, 'bagging_freq': 9, 'feature_fraction': 0.862445930667385}. Best is trial 74 with value: 0.8065364258845575.\n",
      "[I 2024-08-29 14:58:44,325] Trial 91 finished with value: 0.801997450210369 and parameters: {'num_leaves': 82, 'min_data_in_leaf': 21, 'max_depth': 5, 'max_bin': 243, 'bagging_fraction': 0.903544447837251, 'bagging_freq': 9, 'feature_fraction': 0.9384608108839684}. Best is trial 74 with value: 0.8065364258845575.\n",
      "[I 2024-08-29 14:58:49,107] Trial 92 finished with value: 0.8021146804827345 and parameters: {'num_leaves': 83, 'min_data_in_leaf': 29, 'max_depth': 5, 'max_bin': 73, 'bagging_fraction': 0.928095255847046, 'bagging_freq': 8, 'feature_fraction': 0.9361891102107264}. Best is trial 74 with value: 0.8065364258845575.\n",
      "[I 2024-08-29 14:58:53,921] Trial 93 finished with value: 0.7993967253020595 and parameters: {'num_leaves': 82, 'min_data_in_leaf': 29, 'max_depth': 6, 'max_bin': 96, 'bagging_fraction': 0.8750405891579095, 'bagging_freq': 8, 'feature_fraction': 0.9512814697085178}. Best is trial 74 with value: 0.8065364258845575.\n",
      "[I 2024-08-29 14:59:01,755] Trial 94 finished with value: 0.7962400195900893 and parameters: {'num_leaves': 89, 'min_data_in_leaf': 25, 'max_depth': 5, 'max_bin': 106, 'bagging_fraction': 0.9849337257764462, 'bagging_freq': 8, 'feature_fraction': 0.9390016677127628}. Best is trial 74 with value: 0.8065364258845575.\n",
      "[I 2024-08-29 14:59:06,503] Trial 95 finished with value: 0.7947717422692856 and parameters: {'num_leaves': 83, 'min_data_in_leaf': 30, 'max_depth': 6, 'max_bin': 82, 'bagging_fraction': 0.9051871798207772, 'bagging_freq': 7, 'feature_fraction': 0.9006207708667142}. Best is trial 74 with value: 0.8065364258845575.\n",
      "[I 2024-08-29 14:59:10,404] Trial 96 finished with value: 0.7571636672170815 and parameters: {'num_leaves': 94, 'min_data_in_leaf': 96, 'max_depth': 5, 'max_bin': 119, 'bagging_fraction': 0.852285194312177, 'bagging_freq': 10, 'feature_fraction': 0.9924134747611135}. Best is trial 74 with value: 0.8065364258845575.\n",
      "[I 2024-08-29 14:59:14,994] Trial 97 finished with value: 0.7989104601868969 and parameters: {'num_leaves': 73, 'min_data_in_leaf': 26, 'max_depth': 6, 'max_bin': 236, 'bagging_fraction': 0.9596112262500072, 'bagging_freq': 9, 'feature_fraction': 0.9741593712572577}. Best is trial 74 with value: 0.8065364258845575.\n",
      "[I 2024-08-29 14:59:18,872] Trial 98 finished with value: 0.7581596108922735 and parameters: {'num_leaves': 86, 'min_data_in_leaf': 56, 'max_depth': 3, 'max_bin': 164, 'bagging_fraction': 0.9213888608038912, 'bagging_freq': 8, 'feature_fraction': 0.8794719484002512}. Best is trial 74 with value: 0.8065364258845575.\n",
      "[I 2024-08-29 14:59:22,781] Trial 99 finished with value: 0.7103551527122043 and parameters: {'num_leaves': 77, 'min_data_in_leaf': 22, 'max_depth': 4, 'max_bin': 231, 'bagging_fraction': 0.26555338031397957, 'bagging_freq': 10, 'feature_fraction': 0.9158021410311876}. Best is trial 74 with value: 0.8065364258845575.\n"
     ]
    }
   ],
   "source": [
    "# warnings\n",
    "simplefilter(action='ignore')\n",
    " \n",
    "# feature selector\n",
    "path_to_sfs = mlflow.artifacts.download_artifacts(f'runs:/1eb663989aa049b089d19baff26658c7/model/sfs.pkl')\n",
    "with open(path_to_sfs, 'rb') as f:\n",
    "    sfs = cloudpickle.load(f)\n",
    "    idxes_to_choose = list(sfs.k_feature_idx_)\n",
    "feature_selector = FunctionTransformer(lambda X, idxes: X[:, idxes], kw_args={'idxes': idxes_to_choose})\n",
    "\n",
    "# transformers\n",
    "transfomers = UDC_Transformers()\n",
    "\n",
    "# study\n",
    "study = optuna.create_study(direction='maximize')\n",
    "\n",
    "# objective function\n",
    "def objective(trial: optuna.Trial):\n",
    "    ##\n",
    "    params = dict()\n",
    "    params['num_leaves'] = trial.suggest_int('num_leaves', low=31, high=100)\n",
    "    params['min_data_in_leaf'] = trial.suggest_int('min_data_in_leaf', low=20, high=100)\n",
    "    params['max_depth'] = trial.suggest_int('max_depth', low=1, high=10)\n",
    "    params['max_bin'] = trial.suggest_int('max_bin', low=50, high=255)\n",
    "    params['bagging_fraction'] = trial.suggest_float('bagging_fraction', low=0.1, high=1.0)\n",
    "    params['bagging_freq'] = trial.suggest_int('bagging_freq', low=1, high=10)\n",
    "    params['feature_fraction'] = trial.suggest_float('feature_fraction', low=0.1, high=1.0)\n",
    "    ##\n",
    "    lgbm = LGBMClassifier(n_jobs=-1, verbose=-1, **params)\n",
    "    pipeline = Pipeline([('fs', feature_selector), ('trans', transfomers), ('LGBM', lgbm)])\n",
    "    cv_results = cross_val_score(pipeline, materials['X_train'], materials['y_train'], \n",
    "                                 scoring=make_scorer(fbeta_score, beta=2), \n",
    "                                 cv=RepeatedStratifiedKFold(n_splits=10, n_repeats=3))\n",
    "    \n",
    "    return cv_results.mean()\n",
    "\n",
    "# evaluation\n",
    "study.optimize(func=objective, n_trials=100)"
   ]
  },
  {
   "cell_type": "markdown",
   "metadata": {},
   "source": [
    "<b>Logging</b>"
   ]
  },
  {
   "cell_type": "code",
   "execution_count": 11,
   "metadata": {},
   "outputs": [
    {
     "data": {
      "image/png": "[encoded data removed]",
      "text/plain": [
       "<Figure size 640x480 with 1 Axes>"
      ]
     },
     "metadata": {},
     "output_type": "display_data"
    }
   ],
   "source": [
    "lgbm = LGBMClassifier(n_jobs=-1, verbose=-1, **study.best_params)\n",
    "pipeline = Pipeline([('fs', feature_selector), ('trans', transfomers), \n",
    "                     ('ros', RandomOverSampler()), ('LGBM', lgbm)])\n",
    "pipeline.fit(materials['X_train'], materials['y_train'])\n",
    "val_predictions = pipeline.predict(materials['X_test'])\n",
    "val_fbeta = fbeta_score(materials['y_test'], val_predictions, beta=2)\n",
    "\n",
    "conf_mat = confusion_matrix(materials['y_test'], val_predictions)\n",
    "fig, ax = plt.subplots()\n",
    "g = sns.heatmap(conf_mat, annot=True, fmt='.0f', \n",
    "                cmap='coolwarm', cbar=False, linewidths=1.5, ax=ax)\n",
    "g.xaxis.tick_top()\n",
    "g.set_xticklabels(['Not churned', 'Churned'])\n",
    "g.set_yticklabels(['Not churned', 'Churned'])\n",
    "g.set_title('Model engineering - Confusion matrix - LGBM', \n",
    "            fontdict=dict(weight='bold'))\n",
    "fig.savefig('../../../resource/jupyter/temp/me_conf_mat.png')\n",
    "\n",
    "plt.show()"
   ]
  },
  {
   "cell_type": "code",
   "execution_count": 14,
   "metadata": {},
   "outputs": [],
   "source": [
    "with mlflow.start_run(): \n",
    "    ## \n",
    "    mlflow.set_tags({'pre_pro': 'ohe_qtt_fs_hyopt_ros', 'base_model': 'LGBM', \n",
    "                     'beta_f': 2})\n",
    "    ##\n",
    "    mlflow.log_metrics({'avg_fbeta': study.best_trial.values[0], \n",
    "                        'val_fbeta': val_fbeta})\n",
    "    ##\n",
    "    mlflow.log_artifact(local_path='../../../resource/jupyter/temp/me_conf_mat.png', \n",
    "                        artifact_path='model')\n",
    "    ##\n",
    "    mlflow.log_params(study.best_params)\n",
    "    ##\n",
    "    mlflow.sklearn.log_model(sk_model=pipeline, artifact_path='model')"
   ]
  }
 ],
 "metadata": {
  "kernelspec": {
   "display_name": "mlops",
   "language": "python",
   "name": "python3"
  },
  "language_info": {
   "codemirror_mode": {
    "name": "ipython",
    "version": 3
   },
   "file_extension": ".py",
   "mimetype": "text/x-python",
   "name": "python",
   "nbconvert_exporter": "python",
   "pygments_lexer": "ipython3",
   "version": "3.11.9"
  }
 },
 "nbformat": 4,
 "nbformat_minor": 2
}
