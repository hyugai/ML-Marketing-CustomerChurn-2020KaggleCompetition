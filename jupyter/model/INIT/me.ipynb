{
 "cells": [
  {
   "cell_type": "markdown",
   "metadata": {},
   "source": [
    "# Preparation"
   ]
  },
  {
   "cell_type": "markdown",
   "metadata": {},
   "source": [
    "<b>Load Libraries</b>"
   ]
  },
  {
   "cell_type": "code",
   "execution_count": 11,
   "metadata": {},
   "outputs": [],
   "source": [
    "# src\n",
    "import os, sys\n",
    "cwd = os.getcwd()\n",
    "os.chdir('../../..')\n",
    "path_to_src = os.getcwd()\n",
    "if path_to_src not in sys.path:\n",
    "    sys.path.append(path_to_src)\n",
    "os.chdir(cwd)\n",
    "from src.jupyter.support import *\n",
    "\n",
    "# others\n",
    "from sklearn.preprocessing import TargetEncoder\n",
    "from warnings import simplefilter\n",
    "import cloudpickle"
   ]
  },
  {
   "cell_type": "markdown",
   "metadata": {},
   "source": [
    "<b>Load Libraries</b>"
   ]
  },
  {
   "cell_type": "code",
   "execution_count": 5,
   "metadata": {},
   "outputs": [],
   "source": [
    "# dataset\n",
    "materials = prepare_data_to_train('../../../resource/data/cleaned.csv')"
   ]
  },
  {
   "cell_type": "markdown",
   "metadata": {},
   "source": [
    "<b>MLflow</b>"
   ]
  },
  {
   "cell_type": "code",
   "execution_count": 7,
   "metadata": {},
   "outputs": [],
   "source": [
    "# connect to local mlflow\n",
    "mlflow.set_tracking_uri('http://127.0.0.1:5000/')\n",
    "##\n",
    "experiment_name = 'Model engineering'\n",
    "try:\n",
    "    mlflow.create_experiment(name=experiment_name, artifact_location='../../../resource/mlflow/runs')\n",
    "except:\n",
    "    mlflow.set_experiment(experiment_name=experiment_name)"
   ]
  },
  {
   "cell_type": "markdown",
   "metadata": {},
   "source": [
    "<b>UDC</b>"
   ]
  },
  {
   "cell_type": "code",
   "execution_count": 18,
   "metadata": {},
   "outputs": [],
   "source": [
    "# udc: auto detect category\n",
    "class UDC_Transformers(FSBaseTransformer):\n",
    "    def fit(self, X: np.ndarray, y: np.ndarray=None):\n",
    "        X, idxes = self.detect_category(X)\n",
    "        ##\n",
    "        self.assigned_transformers = [('ohe', OneHotEncoder(drop='first', sparse_output=False), idxes['cat']), \n",
    "                                      ('qtt', QuantileTransformer(output_distribution='normal'), idxes['num'])]\n",
    "        \n",
    "        super().fit(X, y)\n",
    "\n",
    "        return self"
   ]
  },
  {
   "cell_type": "markdown",
   "metadata": {},
   "source": [
    "# Evaluation"
   ]
  },
  {
   "cell_type": "code",
   "execution_count": 19,
   "metadata": {},
   "outputs": [],
   "source": [
    "# warnings\n",
    "simplefilter(action='ignore')\n",
    " \n",
    "# feature selector\n",
    "path_to_sfs = mlflow.artifacts.download_artifacts(f'runs:/1eb663989aa049b089d19baff26658c7/model/sfs.pkl')\n",
    "with open(path_to_sfs, 'rb') as f:\n",
    "    sfs = cloudpickle.load(f)\n",
    "    idxes_to_choose = list(sfs.k_feature_idx_)\n",
    "feature_selector = FunctionTransformer(lambda X, idxes: X[:, idxes], kw_args={'idxes': idxes_to_choose})\n",
    "\n",
    "# transformers\n",
    "transfomers = UDC_Transformers()\n",
    "\n",
    "# "
   ]
  }
 ],
 "metadata": {
  "kernelspec": {
   "display_name": "mlops",
   "language": "python",
   "name": "python3"
  },
  "language_info": {
   "codemirror_mode": {
    "name": "ipython",
    "version": 3
   },
   "file_extension": ".py",
   "mimetype": "text/x-python",
   "name": "python",
   "nbconvert_exporter": "python",
   "pygments_lexer": "ipython3",
   "version": "3.11.9"
  }
 },
 "nbformat": 4,
 "nbformat_minor": 2
}
